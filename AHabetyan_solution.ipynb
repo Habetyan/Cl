{
 "cells": [
  {
   "cell_type": "markdown",
   "id": "42df2f92-f9cb-449f-bd7e-ea00315d3bca",
   "metadata": {},
   "source": [
    "Importing libraries "
   ]
  },
  {
   "cell_type": "code",
   "execution_count": 1,
   "id": "2f479a17-3513-4ca5-aa12-84f39942a16b",
   "metadata": {},
   "outputs": [
    {
     "name": "stderr",
     "output_type": "stream",
     "text": [
      "C:\\Users\\AHabe\\anaconda3\\lib\\site-packages\\xgboost\\compat.py:36: FutureWarning: pandas.Int64Index is deprecated and will be removed from pandas in a future version. Use pandas.Index with the appropriate dtype instead.\n",
      "  from pandas import MultiIndex, Int64Index\n"
     ]
    }
   ],
   "source": [
    "import numpy as np , pandas as pd\n",
    "import seaborn as sns\n",
    "from matplotlib import pyplot as plt\n",
    "%matplotlib inline\n",
    "\n",
    "from imblearn.over_sampling import RandomOverSampler\n",
    "from imblearn.under_sampling import RandomUnderSampler\n",
    "import xgboost as xgb, lightgbm as lgbm, catboost as catb, imblearn as imb\n",
    "from sklearn.model_selection import train_test_split, GridSearchCV\n",
    "from sklearn.ensemble import RandomForestClassifier  \n",
    "from sklearn.metrics import (f1_score, precision_score, classification_report,\n",
    "                             recall_score, accuracy_score, confusion_matrix,\n",
    "                             plot_confusion_matrix)\n",
    "from scipy.stats import probplot\n",
    "\n",
    "import warnings\n",
    "warnings.simplefilter('ignore')"
   ]
  },
  {
   "cell_type": "markdown",
   "id": "c6f6dfaa-58e7-4a5b-84fd-6f8b87ce82ce",
   "metadata": {},
   "source": [
    "EDA"
   ]
  },
  {
   "cell_type": "code",
   "execution_count": 2,
   "id": "2fff924f-e890-40c7-9519-e68900d2bc1a",
   "metadata": {},
   "outputs": [
    {
     "name": "stdout",
     "output_type": "stream",
     "text": [
      "Train:\t7500\t sales and 17 features\n",
      "Test:\t2500\t sales and 16 features\n"
     ]
    }
   ],
   "source": [
    "df_train = pd.read_csv('course_project_train.csv')\n",
    "df_test = pd.read_csv('course_project_test.csv')\n",
    "\n",
    "print(f\"Train:\\t{df_train.shape[0]}\\t sales and {df_train.shape[1]} features\")\n",
    "print(f'Test:\\t{df_test.shape[0]}\\t sales and {df_test.shape[1]} features')"
   ]
  },
  {
   "cell_type": "code",
   "execution_count": 3,
   "id": "6a54eb95-74f4-4d93-a633-59605dd80a63",
   "metadata": {},
   "outputs": [
    {
     "data": {
      "text/html": [
       "<div>\n",
       "<style scoped>\n",
       "    .dataframe tbody tr th:only-of-type {\n",
       "        vertical-align: middle;\n",
       "    }\n",
       "\n",
       "    .dataframe tbody tr th {\n",
       "        vertical-align: top;\n",
       "    }\n",
       "\n",
       "    .dataframe thead th {\n",
       "        text-align: right;\n",
       "    }\n",
       "</style>\n",
       "<table border=\"1\" class=\"dataframe\">\n",
       "  <thead>\n",
       "    <tr style=\"text-align: right;\">\n",
       "      <th></th>\n",
       "      <th>count</th>\n",
       "      <th>mean</th>\n",
       "      <th>std</th>\n",
       "      <th>min</th>\n",
       "      <th>25%</th>\n",
       "      <th>50%</th>\n",
       "      <th>75%</th>\n",
       "      <th>max</th>\n",
       "    </tr>\n",
       "  </thead>\n",
       "  <tbody>\n",
       "    <tr>\n",
       "      <th>Annual Income</th>\n",
       "      <td>5943.0</td>\n",
       "      <td>1.366392e+06</td>\n",
       "      <td>8.453392e+05</td>\n",
       "      <td>164597.0</td>\n",
       "      <td>844341.0</td>\n",
       "      <td>1168386.0</td>\n",
       "      <td>1640137.00</td>\n",
       "      <td>1.014934e+07</td>\n",
       "    </tr>\n",
       "    <tr>\n",
       "      <th>Tax Liens</th>\n",
       "      <td>7500.0</td>\n",
       "      <td>3.013333e-02</td>\n",
       "      <td>2.716035e-01</td>\n",
       "      <td>0.0</td>\n",
       "      <td>0.0</td>\n",
       "      <td>0.0</td>\n",
       "      <td>0.00</td>\n",
       "      <td>7.000000e+00</td>\n",
       "    </tr>\n",
       "    <tr>\n",
       "      <th>Number of Open Accounts</th>\n",
       "      <td>7500.0</td>\n",
       "      <td>1.113093e+01</td>\n",
       "      <td>4.908924e+00</td>\n",
       "      <td>2.0</td>\n",
       "      <td>8.0</td>\n",
       "      <td>10.0</td>\n",
       "      <td>14.00</td>\n",
       "      <td>4.300000e+01</td>\n",
       "    </tr>\n",
       "    <tr>\n",
       "      <th>Years of Credit History</th>\n",
       "      <td>7500.0</td>\n",
       "      <td>1.831747e+01</td>\n",
       "      <td>7.041946e+00</td>\n",
       "      <td>4.0</td>\n",
       "      <td>13.5</td>\n",
       "      <td>17.0</td>\n",
       "      <td>21.80</td>\n",
       "      <td>5.770000e+01</td>\n",
       "    </tr>\n",
       "    <tr>\n",
       "      <th>Maximum Open Credit</th>\n",
       "      <td>7500.0</td>\n",
       "      <td>9.451537e+05</td>\n",
       "      <td>1.602622e+07</td>\n",
       "      <td>0.0</td>\n",
       "      <td>279229.5</td>\n",
       "      <td>478159.0</td>\n",
       "      <td>793501.50</td>\n",
       "      <td>1.304726e+09</td>\n",
       "    </tr>\n",
       "    <tr>\n",
       "      <th>Number of Credit Problems</th>\n",
       "      <td>7500.0</td>\n",
       "      <td>1.700000e-01</td>\n",
       "      <td>4.985978e-01</td>\n",
       "      <td>0.0</td>\n",
       "      <td>0.0</td>\n",
       "      <td>0.0</td>\n",
       "      <td>0.00</td>\n",
       "      <td>7.000000e+00</td>\n",
       "    </tr>\n",
       "    <tr>\n",
       "      <th>Months since last delinquent</th>\n",
       "      <td>3419.0</td>\n",
       "      <td>3.469260e+01</td>\n",
       "      <td>2.168881e+01</td>\n",
       "      <td>0.0</td>\n",
       "      <td>16.0</td>\n",
       "      <td>32.0</td>\n",
       "      <td>50.00</td>\n",
       "      <td>1.180000e+02</td>\n",
       "    </tr>\n",
       "    <tr>\n",
       "      <th>Bankruptcies</th>\n",
       "      <td>7486.0</td>\n",
       "      <td>1.171520e-01</td>\n",
       "      <td>3.471917e-01</td>\n",
       "      <td>0.0</td>\n",
       "      <td>0.0</td>\n",
       "      <td>0.0</td>\n",
       "      <td>0.00</td>\n",
       "      <td>4.000000e+00</td>\n",
       "    </tr>\n",
       "    <tr>\n",
       "      <th>Current Loan Amount</th>\n",
       "      <td>7500.0</td>\n",
       "      <td>1.187318e+07</td>\n",
       "      <td>3.192612e+07</td>\n",
       "      <td>11242.0</td>\n",
       "      <td>180169.0</td>\n",
       "      <td>309573.0</td>\n",
       "      <td>519882.00</td>\n",
       "      <td>1.000000e+08</td>\n",
       "    </tr>\n",
       "    <tr>\n",
       "      <th>Current Credit Balance</th>\n",
       "      <td>7500.0</td>\n",
       "      <td>2.898332e+05</td>\n",
       "      <td>3.178714e+05</td>\n",
       "      <td>0.0</td>\n",
       "      <td>114256.5</td>\n",
       "      <td>209323.0</td>\n",
       "      <td>360406.25</td>\n",
       "      <td>6.506797e+06</td>\n",
       "    </tr>\n",
       "    <tr>\n",
       "      <th>Monthly Debt</th>\n",
       "      <td>7500.0</td>\n",
       "      <td>1.831445e+04</td>\n",
       "      <td>1.192676e+04</td>\n",
       "      <td>0.0</td>\n",
       "      <td>10067.5</td>\n",
       "      <td>16076.5</td>\n",
       "      <td>23818.00</td>\n",
       "      <td>1.366790e+05</td>\n",
       "    </tr>\n",
       "    <tr>\n",
       "      <th>Credit Score</th>\n",
       "      <td>5943.0</td>\n",
       "      <td>1.151087e+03</td>\n",
       "      <td>1.604451e+03</td>\n",
       "      <td>585.0</td>\n",
       "      <td>711.0</td>\n",
       "      <td>731.0</td>\n",
       "      <td>743.00</td>\n",
       "      <td>7.510000e+03</td>\n",
       "    </tr>\n",
       "    <tr>\n",
       "      <th>Credit Default</th>\n",
       "      <td>7500.0</td>\n",
       "      <td>2.817333e-01</td>\n",
       "      <td>4.498740e-01</td>\n",
       "      <td>0.0</td>\n",
       "      <td>0.0</td>\n",
       "      <td>0.0</td>\n",
       "      <td>1.00</td>\n",
       "      <td>1.000000e+00</td>\n",
       "    </tr>\n",
       "  </tbody>\n",
       "</table>\n",
       "</div>"
      ],
      "text/plain": [
       "                               count          mean           std       min  \\\n",
       "Annual Income                 5943.0  1.366392e+06  8.453392e+05  164597.0   \n",
       "Tax Liens                     7500.0  3.013333e-02  2.716035e-01       0.0   \n",
       "Number of Open Accounts       7500.0  1.113093e+01  4.908924e+00       2.0   \n",
       "Years of Credit History       7500.0  1.831747e+01  7.041946e+00       4.0   \n",
       "Maximum Open Credit           7500.0  9.451537e+05  1.602622e+07       0.0   \n",
       "Number of Credit Problems     7500.0  1.700000e-01  4.985978e-01       0.0   \n",
       "Months since last delinquent  3419.0  3.469260e+01  2.168881e+01       0.0   \n",
       "Bankruptcies                  7486.0  1.171520e-01  3.471917e-01       0.0   \n",
       "Current Loan Amount           7500.0  1.187318e+07  3.192612e+07   11242.0   \n",
       "Current Credit Balance        7500.0  2.898332e+05  3.178714e+05       0.0   \n",
       "Monthly Debt                  7500.0  1.831445e+04  1.192676e+04       0.0   \n",
       "Credit Score                  5943.0  1.151087e+03  1.604451e+03     585.0   \n",
       "Credit Default                7500.0  2.817333e-01  4.498740e-01       0.0   \n",
       "\n",
       "                                   25%        50%         75%           max  \n",
       "Annual Income                 844341.0  1168386.0  1640137.00  1.014934e+07  \n",
       "Tax Liens                          0.0        0.0        0.00  7.000000e+00  \n",
       "Number of Open Accounts            8.0       10.0       14.00  4.300000e+01  \n",
       "Years of Credit History           13.5       17.0       21.80  5.770000e+01  \n",
       "Maximum Open Credit           279229.5   478159.0   793501.50  1.304726e+09  \n",
       "Number of Credit Problems          0.0        0.0        0.00  7.000000e+00  \n",
       "Months since last delinquent      16.0       32.0       50.00  1.180000e+02  \n",
       "Bankruptcies                       0.0        0.0        0.00  4.000000e+00  \n",
       "Current Loan Amount           180169.0   309573.0   519882.00  1.000000e+08  \n",
       "Current Credit Balance        114256.5   209323.0   360406.25  6.506797e+06  \n",
       "Monthly Debt                   10067.5    16076.5    23818.00  1.366790e+05  \n",
       "Credit Score                     711.0      731.0      743.00  7.510000e+03  \n",
       "Credit Default                     0.0        0.0        1.00  1.000000e+00  "
      ]
     },
     "execution_count": 3,
     "metadata": {},
     "output_type": "execute_result"
    }
   ],
   "source": [
    "df_train.describe().T"
   ]
  },
  {
   "cell_type": "code",
   "execution_count": 4,
   "id": "66478a4e-4c27-4ec0-b4ee-71fcb6b05445",
   "metadata": {},
   "outputs": [
    {
     "data": {
      "text/plain": [
       "Text(0.5, 1.0, 'Correlation with TARGET variable')"
      ]
     },
     "execution_count": 4,
     "metadata": {},
     "output_type": "execute_result"
    },
    {
     "data": {
      "image/png": "[encoded data removed]",
      "text/plain": [
       "<Figure size 648x648 with 1 Axes>"
      ]
     },
     "metadata": {},
     "output_type": "display_data"
    }
   ],
   "source": [
    "sns.set(font_scale=1)\n",
    "corr_with_TARGET = df_train.corr().iloc[:-1, -1].sort_values(ascending=False)\n",
    "plt.figure(figsize=(9, 9))\n",
    "sns.barplot(x=corr_with_TARGET.values, y=corr_with_TARGET.index)\n",
    "plt.title('Correlation with TARGET variable')\n",
    "\n"
   ]
  },
  {
   "cell_type": "code",
   "execution_count": 5,
   "id": "898c9bc5-08bc-479b-b1fc-3e302271e42f",
   "metadata": {},
   "outputs": [
    {
     "name": "stdout",
     "output_type": "stream",
     "text": [
      "Annual Income - 21%\n",
      "Years in current job - 5%\n",
      "Months since last delinquent - 54%\n",
      "Bankruptcies - 0%\n",
      "Credit Score - 21%\n"
     ]
    }
   ],
   "source": [
    "for col in df_train.columns:\n",
    "    pct_missing = np.mean(df_train[col].isna())\n",
    "    if pct_missing:\n",
    "        print('{} - {}%'.format(col, round(pct_missing*100)))\n",
    "\n"
   ]
  },
  {
   "cell_type": "markdown",
   "id": "291291d3-2c4d-4ff4-b835-2ee3e71619f1",
   "metadata": {},
   "source": [
    "Prepocessing"
   ]
  },
  {
   "cell_type": "code",
   "execution_count": 6,
   "id": "ce86f06d-1256-4362-9278-dc126713621d",
   "metadata": {},
   "outputs": [],
   "source": [
    "def fix_manual(df):\n",
    "    \n",
    "    mean_income = df['Annual Income'].mean()\n",
    "    df['Annual Income'] = df['Annual Income'].fillna(mean_income)\n",
    "    year_mode = df['Years in current job'].mode().astype(str)[0]\n",
    "    df['Years in current job'] = df['Years in current job'].fillna(year_mode)\n",
    "    df.loc[(df['Years in current job'] == '< 1 year') | (df['Years in current job'] == '1 year') |  (df['Years in current job'] == '2 years') | (df['Years in current job'] == '3 years') | (df['Years in current job'] == '4 years'),  'Years in current job'] = '4 or less years'\n",
    "    df.loc[(df['Years in current job'] == '5 years') | (df['Years in current job'] == '6 years') | (df['Years in current job'] == '7 years'),  'Years in current job'] = '5-7 years'\n",
    "    df.loc[(df['Years in current job'] == '8 years') | (df['Years in current job'] == '9 years') | (df['Years in current job'] == '10+ years'),  'Years in current job'] = '8 or more years'\n",
    "    my_mean = df['Months since last delinquent'].mode()\n",
    "    df['Months since last delinquent'] =  df['Months since last delinquent'].fillna(my_mean[0])\n",
    "    df['Bankruptcies'] = df['Bankruptcies'].fillna(0)\n",
    "    df.loc[df['Current Loan Amount'] > (df['Annual Income'] * 100), 'Current Loan Amount'] = df['Annual Income'] * 50 * 0.7\n",
    "    df.loc[df['Current Loan Amount'] > (df['Annual Income'] * 50), 'Current Loan Amount'] = df['Annual Income'] * 50 * 0.7\n",
    "    mean_loan = df['Current Loan Amount'].mean()\n",
    "    df.loc[df['Current Loan Amount'].isnull() == True,'Current Loan Amount'] = mean_loan\n",
    "    df.loc[df['Current Credit Balance'] > (df['Annual Income'] * 30), 'Current Credit Balance'] = df['Annual Income'] * 30\n",
    "    mean_df = df['Months since last delinquent'].mean()\n",
    "    df['Months since last delinquent'] = df['Months since last delinquent'].fillna(mean_df)\n",
    "    df.loc[df['Credit Score'] > 1000, 'Credit Score'] = 1000\n",
    "    df_mean = df['Credit Score'].mean()\n",
    "    df['Credit Score'] = df['Credit Score'].fillna(df_mean)\n",
    "    df = df.drop('Number of Open Accounts', axis=1)\n",
    "    df['month_income'] = df['Annual Income'] / 12\n",
    "    df['Net Balance'] =  df['month_income'] - df['Monthly Debt']\n",
    "    df.loc[(df['Current Credit Balance'] - df['Current Loan Amount'] ) < 0, 'Current Credit Balance'] = df['Current Loan Amount']\n",
    "    df['how_much_used_credit_balance'] =   df['Current Credit Balance'] / df['Current Credit Balance'] * 100\n",
    "    df.loc[df['Purpose'] == 'renewable energy', 'Purpose'] = 'business loan'\n",
    "    df.loc[df['Purpose'] == 'small business', 'Purpose'] = 'business loan'\n",
    "    df = pd.get_dummies(df, drop_first=True)\n",
    "   \n",
    "  \n",
    "    return df\n",
    "\n",
    "\n"
   ]
  },
  {
   "cell_type": "code",
   "execution_count": 7,
   "id": "1b8e32e5-1c13-477c-b5f1-5deab2100ba7",
   "metadata": {},
   "outputs": [],
   "source": [
    " def balance_data(X, y):\n",
    "      #ros = SMOTE()\n",
    "      #ros = ADASYN()\n",
    "    ros = RandomOverSampler(random_state=0)\n",
    "    X_resampled, y_resampled = ros.fit_sample(X, y)\n",
    "    return X_resampled, y_resampled"
   ]
  },
  {
   "cell_type": "code",
   "execution_count": 8,
   "id": "62e15404-98b4-41cb-b905-4412e4e78c84",
   "metadata": {},
   "outputs": [
    {
     "name": "stdout",
     "output_type": "stream",
     "text": [
      "<class 'pandas.core.frame.DataFrame'>\n",
      "RangeIndex: 7500 entries, 0 to 7499\n",
      "Data columns (total 33 columns):\n",
      " #   Column                                Non-Null Count  Dtype  \n",
      "---  ------                                --------------  -----  \n",
      " 0   Annual Income                         7500 non-null   float64\n",
      " 1   Tax Liens                             7500 non-null   float64\n",
      " 2   Years of Credit History               7500 non-null   float64\n",
      " 3   Maximum Open Credit                   7500 non-null   float64\n",
      " 4   Number of Credit Problems             7500 non-null   float64\n",
      " 5   Months since last delinquent          7500 non-null   float64\n",
      " 6   Bankruptcies                          7500 non-null   float64\n",
      " 7   Current Loan Amount                   7500 non-null   float64\n",
      " 8   Current Credit Balance                7500 non-null   float64\n",
      " 9   Monthly Debt                          7500 non-null   float64\n",
      " 10  Credit Score                          7500 non-null   float64\n",
      " 11  Credit Default                        7500 non-null   int64  \n",
      " 12  month_income                          7500 non-null   float64\n",
      " 13  Net Balance                           7500 non-null   float64\n",
      " 14  how_much_used_credit_balance          7500 non-null   float64\n",
      " 15  Home Ownership_Home Mortgage          7500 non-null   uint8  \n",
      " 16  Home Ownership_Own Home               7500 non-null   uint8  \n",
      " 17  Home Ownership_Rent                   7500 non-null   uint8  \n",
      " 18  Years in current job_5-7 years        7500 non-null   uint8  \n",
      " 19  Years in current job_8 or more years  7500 non-null   uint8  \n",
      " 20  Purpose_buy a car                     7500 non-null   uint8  \n",
      " 21  Purpose_buy house                     7500 non-null   uint8  \n",
      " 22  Purpose_debt consolidation            7500 non-null   uint8  \n",
      " 23  Purpose_educational expenses          7500 non-null   uint8  \n",
      " 24  Purpose_home improvements             7500 non-null   uint8  \n",
      " 25  Purpose_major purchase                7500 non-null   uint8  \n",
      " 26  Purpose_medical bills                 7500 non-null   uint8  \n",
      " 27  Purpose_moving                        7500 non-null   uint8  \n",
      " 28  Purpose_other                         7500 non-null   uint8  \n",
      " 29  Purpose_take a trip                   7500 non-null   uint8  \n",
      " 30  Purpose_vacation                      7500 non-null   uint8  \n",
      " 31  Purpose_wedding                       7500 non-null   uint8  \n",
      " 32  Term_Short Term                       7500 non-null   uint8  \n",
      "dtypes: float64(14), int64(1), uint8(18)\n",
      "memory usage: 1010.9 KB\n"
     ]
    }
   ],
   "source": [
    "train_df = fix_manual(df_train)\n",
    "test_df = fix_manual(df_test)\n",
    "train_df.info()"
   ]
  },
  {
   "cell_type": "markdown",
   "id": "112eed7f-7076-4782-8c8e-265d495569ec",
   "metadata": {},
   "source": [
    "Cat Boost"
   ]
  },
  {
   "cell_type": "code",
   "execution_count": 9,
   "id": "5a6926f5-ccdb-4c10-8f6d-d0828592492a",
   "metadata": {},
   "outputs": [],
   "source": [
    "TARGET = ['Credit Default']"
   ]
  },
  {
   "cell_type": "code",
   "execution_count": 10,
   "id": "4e19e8e5-e3c1-44e7-a94f-301089313aff",
   "metadata": {},
   "outputs": [],
   "source": [
    "X = train_df.drop(TARGET, axis=1)\n",
    "y = train_df[TARGET]"
   ]
  },
  {
   "cell_type": "code",
   "execution_count": 11,
   "id": "5f5a1aff-fa8f-409f-878c-0b24a26dae96",
   "metadata": {},
   "outputs": [],
   "source": [
    "X,y = balance_data(X,y)\n",
    "X_train, X_test, y_train, y_test = train_test_split(X, y, stratify=y, test_size=0.15, shuffle=True, random_state=42)"
   ]
  },
  {
   "cell_type": "code",
   "execution_count": 12,
   "id": "daf64876-0683-4e0f-a699-9e4e739177ae",
   "metadata": {},
   "outputs": [
    {
     "data": {
      "text/plain": [
       "RandomForestClassifier(max_depth=35, max_features=25, min_samples_split=5,\n",
       "                       n_estimators=450, oob_score=True)"
      ]
     },
     "execution_count": 12,
     "metadata": {},
     "output_type": "execute_result"
    }
   ],
   "source": [
    "Forest = RandomForestClassifier(max_depth=35, max_features=25, min_samples_split=5,\n",
    "                       n_estimators=450, oob_score=True)\n",
    "Forest.fit(X_train, y_train)"
   ]
  },
  {
   "cell_type": "code",
   "execution_count": 13,
   "id": "5b21122d-a932-4f76-8189-caa723b893c6",
   "metadata": {},
   "outputs": [
    {
     "data": {
      "image/png": "[encoded data removed]",
      "text/plain": [
       "<Figure size 432x288 with 2 Axes>"
      ]
     },
     "metadata": {},
     "output_type": "display_data"
    }
   ],
   "source": [
    "Forest_pred_test = Forest.predict(X_test)\n",
    "plot_confusion_matrix(Forest, X_test, y_test, cmap=plt.cm.Blues);"
   ]
  },
  {
   "cell_type": "code",
   "execution_count": 14,
   "id": "e5ba1fa0-429e-4b6e-8ce8-21b0c12bc34d",
   "metadata": {},
   "outputs": [
    {
     "name": "stdout",
     "output_type": "stream",
     "text": [
      "              precision    recall  f1-score   support\n",
      "\n",
      "           0       0.94      0.87      0.90       809\n",
      "           1       0.88      0.94      0.91       808\n",
      "\n",
      "    accuracy                           0.91      1617\n",
      "   macro avg       0.91      0.91      0.91      1617\n",
      "weighted avg       0.91      0.91      0.91      1617\n",
      "\n"
     ]
    }
   ],
   "source": [
    "print(classification_report(y_test,Forest_pred_test))"
   ]
  },
  {
   "cell_type": "code",
   "execution_count": 15,
   "id": "5144e977-b771-49d6-a2ae-55a1a82c94bc",
   "metadata": {},
   "outputs": [
    {
     "data": {
      "text/plain": [
       "array([[0.26235362, 0.73764638],\n",
       "       [0.88441799, 0.11558201],\n",
       "       [0.33397884, 0.66602116]])"
      ]
     },
     "execution_count": 15,
     "metadata": {},
     "output_type": "execute_result"
    }
   ],
   "source": [
    "prob = Forest.predict_proba(X_test)\n",
    "prob[:3]"
   ]
  },
  {
   "cell_type": "code",
   "execution_count": 16,
   "id": "66e254ed-889a-404d-9e63-b82be09b8519",
   "metadata": {},
   "outputs": [],
   "source": [
    "Forest_pred_test = np.where(prob[:,1] >= 0.6, 1, 0)"
   ]
  },
  {
   "cell_type": "code",
   "execution_count": 18,
   "id": "8c1a9b51-cfc4-49f8-9b7c-83dd16cfb6cc",
   "metadata": {},
   "outputs": [
    {
     "name": "stdout",
     "output_type": "stream",
     "text": [
      "              precision    recall  f1-score   support\n",
      "\n",
      "           0       0.91      0.95      0.93       809\n",
      "           1       0.95      0.91      0.93       808\n",
      "\n",
      "    accuracy                           0.93      1617\n",
      "   macro avg       0.93      0.93      0.93      1617\n",
      "weighted avg       0.93      0.93      0.93      1617\n",
      "\n"
     ]
    }
   ],
   "source": [
    "print(classification_report(y_test,Forest_pred_test))"
   ]
  },
  {
   "cell_type": "code",
   "execution_count": 20,
   "id": "c013a2cc-f3de-4656-841a-463cee38ee39",
   "metadata": {},
   "outputs": [],
   "source": [
    "Final_pred_test = Forest.predict(test_df)\n",
    "Final_prob = Forest.predict_proba(test_df)\n",
    "Final_pred_test = np.where(Final_prob[:,1] >= 0.6, 1, 0)"
   ]
  },
  {
   "cell_type": "code",
   "execution_count": 21,
   "id": "5092035f-31c4-4b71-9ed1-e87e83f116b4",
   "metadata": {},
   "outputs": [],
   "source": [
    "pd.DataFrame(Final_pred_test).to_csv('AHabetyan_predictions.csv')"
   ]
  },
  {
   "cell_type": "code",
   "execution_count": null,
   "id": "8b45d759-3ade-485a-8aa8-eaba9ab74868",
   "metadata": {},
   "outputs": [],
   "source": []
  }
 ],
 "metadata": {
  "kernelspec": {
   "display_name": "Python 3 (ipykernel)",
   "language": "python",
   "name": "python3"
  },
  "language_info": {
   "codemirror_mode": {
    "name": "ipython",
    "version": 3
   },
   "file_extension": ".py",
   "mimetype": "text/x-python",
   "name": "python",
   "nbconvert_exporter": "python",
   "pygments_lexer": "ipython3",
   "version": "3.9.12"
  }
 },
 "nbformat": 4,
 "nbformat_minor": 5
}
